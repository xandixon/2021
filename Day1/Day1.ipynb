{
 "cells": [
  {
   "cell_type": "code",
   "execution_count": 37,
   "metadata": {},
   "outputs": [],
   "source": [
    "#importing\n",
    "\n",
    "import csv\n",
    "data = []\n",
    "with open('input.txt', newline = '') as csvfile:\n",
    "    inputlist = csv.reader(csvfile)\n",
    "    for [item] in inputlist: data.append(int(item))"
   ]
  },
  {
   "cell_type": "code",
   "execution_count": 38,
   "metadata": {},
   "outputs": [
    {
     "name": "stdout",
     "output_type": "stream",
     "text": [
      "1583\n"
     ]
    }
   ],
   "source": [
    "# part 1\n",
    "\n",
    "increases = 0\n",
    "prev = data[0]\n",
    "for item in data[1:]:\n",
    "    if item > prev:\n",
    "        increases += 1\n",
    "    prev = item\n",
    "\n",
    "print(increases)"
   ]
  },
  {
   "cell_type": "code",
   "execution_count": 39,
   "metadata": {},
   "outputs": [
    {
     "name": "stdout",
     "output_type": "stream",
     "text": [
      "1627\n"
     ]
    }
   ],
   "source": [
    "# part 2\n",
    "increases = 0\n",
    "prevsum = 0\n",
    "i = 2\n",
    "for item in data[2:]:\n",
    "    sum = item + data[i-1] + data[i-2]\n",
    "    if sum > prevsum and i !=2: \n",
    "        increases += 1\n",
    "    prevsum = sum\n",
    "    i+=1\n",
    "\n",
    "print(increases)\n"
   ]
  }
 ],
 "metadata": {
  "interpreter": {
   "hash": "e7a33ded16c6ea911d8919c1b060f634dda5719d933a4e5b428ca04bea72530b"
  },
  "kernelspec": {
   "display_name": "Python 3.7.11 64-bit ('myenv': conda)",
   "language": "python",
   "name": "python3"
  },
  "language_info": {
   "codemirror_mode": {
    "name": "ipython",
    "version": 3
   },
   "file_extension": ".py",
   "mimetype": "text/x-python",
   "name": "python",
   "nbconvert_exporter": "python",
   "pygments_lexer": "ipython3",
   "version": "3.7.11"
  },
  "orig_nbformat": 4
 },
 "nbformat": 4,
 "nbformat_minor": 2
}
