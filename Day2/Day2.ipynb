{
 "cells": [
  {
   "cell_type": "code",
   "execution_count": 7,
   "metadata": {},
   "outputs": [],
   "source": [
    "#importing\n",
    "\n",
    "import csv\n",
    "data = []\n",
    "with open('input.txt', newline = '') as csvfile:\n",
    "    inputlist = csv.reader(csvfile, delimiter = ' ')\n",
    "    for item in inputlist: data.append(item)"
   ]
  },
  {
   "cell_type": "code",
   "execution_count": 14,
   "metadata": {},
   "outputs": [
    {
     "name": "stdout",
     "output_type": "stream",
     "text": [
      "1804520\n"
     ]
    }
   ],
   "source": [
    "#part 1\n",
    "vert = 0\n",
    "horz = 0\n",
    "for command in data:\n",
    "    dir = command[0]\n",
    "    dist = int(command[1])\n",
    "    if dir == 'forward': horz += dist\n",
    "    elif dir == 'down': vert += dist\n",
    "    elif dir == 'up': vert -= dist\n",
    "    else: print('fatal error')\n",
    "\n",
    "print(vert*horz)"
   ]
  },
  {
   "cell_type": "code",
   "execution_count": 15,
   "metadata": {},
   "outputs": [
    {
     "name": "stdout",
     "output_type": "stream",
     "text": [
      "1971095320\n"
     ]
    }
   ],
   "source": [
    "#part 2\n",
    "\n",
    "vert = 0\n",
    "horz = 0\n",
    "aim = 0\n",
    "for command in data:\n",
    "    dir = command[0]\n",
    "    dist = int(command[1])\n",
    "    if dir == 'forward':\n",
    "        horz += dist\n",
    "        vert += aim*dist\n",
    "    elif dir == 'down': aim += dist\n",
    "    elif dir == 'up': aim -= dist\n",
    "    else: print('fatal error')\n",
    "\n",
    "print(vert*horz)"
   ]
  }
 ],
 "metadata": {
  "interpreter": {
   "hash": "e7a33ded16c6ea911d8919c1b060f634dda5719d933a4e5b428ca04bea72530b"
  },
  "kernelspec": {
   "display_name": "Python 3.7.11 64-bit ('myenv': conda)",
   "language": "python",
   "name": "python3"
  },
  "language_info": {
   "codemirror_mode": {
    "name": "ipython",
    "version": 3
   },
   "file_extension": ".py",
   "mimetype": "text/x-python",
   "name": "python",
   "nbconvert_exporter": "python",
   "pygments_lexer": "ipython3",
   "version": "3.7.11"
  },
  "orig_nbformat": 4
 },
 "nbformat": 4,
 "nbformat_minor": 2
}
