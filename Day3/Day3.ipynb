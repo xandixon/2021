{
 "cells": [
  {
   "cell_type": "code",
   "execution_count": 124,
   "metadata": {},
   "outputs": [],
   "source": [
    "#importing\n",
    "import pandas as pd\n",
    "import csv\n",
    "data = []\n",
    "with open('input.txt', newline = '') as csvfile:\n",
    "    inputlist = csv.reader(csvfile)\n",
    "    for [item] in inputlist: data.append(item)"
   ]
  },
  {
   "cell_type": "code",
   "execution_count": null,
   "metadata": {},
   "outputs": [],
   "source": [
    "#test inputs\n",
    "import pandas as pd\n",
    "import csv\n",
    "data = []\n",
    "with open('testinput.txt', newline = '') as csvfile:\n",
    "    inputlist = csv.reader(csvfile)\n",
    "    for [item] in inputlist: data.append(item)"
   ]
  },
  {
   "cell_type": "code",
   "execution_count": null,
   "metadata": {},
   "outputs": [],
   "source": [
    "#part 1\n",
    "\n",
    "head = [] #create header for dataframe\n",
    "for n in range(1,len(data[0])+1): head.append('d'+str(n)) #name the columns in dataframe, not really important\n",
    "\n",
    "\n",
    "df = pd.DataFrame(columns = head) #create blank dataframe with column header\n",
    "\n",
    "for num in data:\n",
    "    list = [] #create empty list, will be filled and appended to dataframe\n",
    "    for char in num: #separates each digit in entry, puts in own entry in list\n",
    "        list.append(char)\n",
    "    df = df.append(pd.DataFrame([list], columns = head), ignore_index=True) #creates mini-dataframe and appends to large dataframe\n",
    "\n",
    "modes = df.mode(axis=0).loc[0] #find modes of each column (the .loc[0] returns a series)\n",
    "\n",
    "gamma = 0 #initialize gamma as 0\n",
    "i = len(modes)-1 #set initial power for converting from binary to decimal\n",
    "for num in modes: #binary conversion\n",
    "    num = int(num)\n",
    "    gamma += num*2**i\n",
    "    i-=1\n",
    "\n",
    "epsilon = 0\n",
    "i = len(modes)-1\n",
    "for num in modes:\n",
    "    if int(num) == 1: num = 0 #flips 1's to 0's\n",
    "    elif int(num) == 0: num = 1#flips 0's to 1's\n",
    "    epsilon += num*2**i\n",
    "    i-=1\n",
    "\n",
    "print(gamma*epsilon)\n",
    "\n"
   ]
  },
  {
   "cell_type": "code",
   "execution_count": 125,
   "metadata": {},
   "outputs": [
    {
     "name": "stdout",
     "output_type": "stream",
     "text": [
      "6775520\n"
     ]
    }
   ],
   "source": [
    "#part 2\n",
    "\n",
    "head = [] #create header for dataframe\n",
    "for n in range(1,1+len(data[0])): head.append('d'+str(n)) #name the columns in dataframe, not really important\n",
    "\n",
    "\n",
    "df = pd.DataFrame(columns = head) #create blank dataframe with column header\n",
    "\n",
    "for num in data:\n",
    "    list = [] #create empty list, will be filled and appended to dataframe\n",
    "    for char in num: #separates each digit in entry, puts in own entry in list\n",
    "        list.append(char)\n",
    "    df = df.append(pd.DataFrame([list], columns = head), ignore_index=True) #creates mini-dataframe and appends to large dataframe\n",
    "\n",
    "\n",
    "oxydf = df #copy dataframe to be modified for oxygen rating\n",
    "for col in oxydf: #loop through each column\n",
    "    zeroes = (oxydf[col] == '0').sum() #count zeroes\n",
    "    ones = (oxydf[col] == '1').sum() #count ones\n",
    "    if ones >= zeroes: mode = '1' #assigns mode with tie going to ones\n",
    "    elif zeroes > ones: mode= '0'\n",
    "    oxydf = oxydf[oxydf[col] == mode] #trims dataframe where digit in question matches mode\n",
    "    if len(oxydf) == 1: oxybi = oxydf.iloc[0].to_list() #asigns binary number when one row is left\n",
    "\n",
    "\n",
    "oxy = 0 #initialize oxygen rating to zero for binary conversion\n",
    "i = len(oxybi)-1 #binary conversion\n",
    "for num in oxybi:\n",
    "    num = int(num)\n",
    "    oxy += num*2**i\n",
    "    i -= 1\n",
    "\n",
    "codf = df #copy dataframe to be modified for oxygen rating\n",
    "for col in codf: #loop through each column\n",
    "    zeroes = (codf[col] == '0').sum() #count zeroes\n",
    "    ones = (codf[col] == '1').sum() #count ones\n",
    "    if ones < zeroes: mode = '1' #reverse mode with tie going to zeroes\n",
    "    elif zeroes <= ones: mode= '0'\n",
    "    codf = codf[codf[col] == mode] #trims dataframe where digit in question matches mode\n",
    "    if len(codf) == 1: cobi = codf.iloc[0].to_list() #assigns binary number when one row is left\n",
    "\n",
    "co = 0 #initializes co2 rating\n",
    "i = len(cobi)-1 #binary conversion\n",
    "for num in cobi:\n",
    "    num = int(num)\n",
    "    co += num*2**i\n",
    "    i -= 1\n",
    "\n",
    "lsr = oxy*co #life suppoort rating\n",
    "print(lsr) #print answer\n",
    "\n",
    "\n",
    "    \n",
    "  \n"
   ]
  }
 ],
 "metadata": {
  "interpreter": {
   "hash": "e7a33ded16c6ea911d8919c1b060f634dda5719d933a4e5b428ca04bea72530b"
  },
  "kernelspec": {
   "display_name": "Python 3.7.11 64-bit ('myenv': conda)",
   "language": "python",
   "name": "python3"
  },
  "language_info": {
   "codemirror_mode": {
    "name": "ipython",
    "version": 3
   },
   "file_extension": ".py",
   "mimetype": "text/x-python",
   "name": "python",
   "nbconvert_exporter": "python",
   "pygments_lexer": "ipython3",
   "version": "3.7.11"
  },
  "orig_nbformat": 4
 },
 "nbformat": 4,
 "nbformat_minor": 2
}
